{
 "cells": [
  {
   "cell_type": "markdown",
   "metadata": {},
   "source": [
    "# Berechnung der Matrixeinträge für den Übergang mit der Fictitious-Node-Methode"
   ]
  },
  {
   "cell_type": "code",
   "execution_count": 1,
   "metadata": {},
   "outputs": [
    {
     "data": {
      "text/latex": [
       "$\\displaystyle \\frac{D_{1} \\left(a_{i+dx} - a_{i-1}\\right)}{\\Delta_{x}} = \\frac{D_{2} \\left(b_{i+1} - b_{i-dx}\\right)}{\\Delta_{x}}$"
      ],
      "text/plain": [
       "Eq(D_1*(a_{i+dx} - a_{i-1})/\\Delta_x, D_2*(b_{i+1} - b_{i-dx})/\\Delta_x)"
      ]
     },
     "metadata": {},
     "output_type": "display_data"
    },
    {
     "data": {
      "text/latex": [
       "$\\displaystyle a_{i+dx} = \\frac{D_{1} a_{i-1} + D_{2} b_{i+1} - D_{2} b_{i-dx}}{D_{1}}$"
      ],
      "text/plain": [
       "Eq(a_{i+dx}, (D_1*a_{i-1} + D_2*b_{i+1} - D_2*b_{i-dx})/D_1)"
      ]
     },
     "metadata": {},
     "output_type": "display_data"
    },
    {
     "data": {
      "text/latex": [
       "$\\displaystyle \\frac{a_{i+dx}}{2} + \\frac{a_{i}}{2} = \\frac{b_{i-dx}}{2} + \\frac{b_{i}}{2}$"
      ],
      "text/plain": [
       "Eq(a_{i+dx}/2 + a_{i}/2, b_{i-dx}/2 + b_{i}/2)"
      ]
     },
     "metadata": {},
     "output_type": "display_data"
    },
    {
     "data": {
      "text/latex": [
       "$\\displaystyle b_{i-dx} = \\frac{D_{1} a_{i-1} + D_{1} a_{i} - D_{1} b_{i} + D_{2} b_{i+1}}{D_{1} + D_{2}}$"
      ],
      "text/plain": [
       "Eq(b_{i-dx}, (D_1*a_{i-1} + D_1*a_{i} - D_1*b_{i} + D_2*b_{i+1})/(D_1 + D_2))"
      ]
     },
     "metadata": {},
     "output_type": "display_data"
    },
    {
     "data": {
      "text/latex": [
       "$\\displaystyle a_{i+dx} = \\frac{D_{1} a_{i-1} - D_{2} a_{i} + D_{2} b_{i+1} + D_{2} b_{i}}{D_{1} + D_{2}}$"
      ],
      "text/plain": [
       "Eq(a_{i+dx}, (D_1*a_{i-1} - D_2*a_{i} + D_2*b_{i+1} + D_2*b_{i})/(D_1 + D_2))"
      ]
     },
     "metadata": {},
     "output_type": "display_data"
    },
    {
     "data": {
      "text/latex": [
       "$\\displaystyle \\frac{D_{1} \\left(- a_{i-1} + \\frac{D_{1} a_{i-1} - D_{2} a_{i} + D_{2} b_{i+1} + D_{2} b_{i}}{D_{1} + D_{2}}\\right)}{\\Delta_{x}} = \\frac{D_{2} \\left(b_{i+1} - b_{i-dx}\\right)}{\\Delta_{x}}$"
      ],
      "text/plain": [
       "Eq(D_1*(-a_{i-1} + (D_1*a_{i-1} - D_2*a_{i} + D_2*b_{i+1} + D_2*b_{i})/(D_1 + D_2))/\\Delta_x, D_2*(b_{i+1} - b_{i-dx})/\\Delta_x)"
      ]
     },
     "metadata": {},
     "output_type": "display_data"
    },
    {
     "data": {
      "text/plain": [
       "[(D_1*a_{i-1} + D_1*a_{i} - D_1*b_{i} + D_2*b_{i+1})/(D_1 + D_2)]"
      ]
     },
     "metadata": {},
     "output_type": "display_data"
    },
    {
     "data": {
      "text/latex": [
       "$\\displaystyle - \\frac{D_{1} a_{i-1} \\alpha_{1}}{D_{1} + D_{2}} + \\frac{D_{2} a_{i} \\alpha_{1}}{D_{1} + D_{2}} - \\frac{D_{2} \\alpha_{1} b_{i+1}}{D_{1} + D_{2}} - \\frac{D_{2} \\alpha_{1} b_{i}}{D_{1} + D_{2}} - a_{i-1} \\alpha_{1} + 2 a_{i} \\alpha_{1} + a_{i} = \\frac{D_{1} a_{i-1} \\alpha_{1}}{D_{1} + D_{2}} - \\frac{D_{2} a_{i} \\alpha_{1}}{D_{1} + D_{2}} + \\frac{D_{2} \\alpha_{1} b_{i+1}}{D_{1} + D_{2}} + \\frac{D_{2} \\alpha_{1} b_{i}}{D_{1} + D_{2}} + a_{i-1} \\alpha_{1} - 2 a_{i} \\alpha_{1} + a_{i}$"
      ],
      "text/plain": [
       "Eq(-D_1*a_{i-1}*alpha_1/(D_1 + D_2) + D_2*a_{i}*alpha_1/(D_1 + D_2) - D_2*alpha_1*b_{i+1}/(D_1 + D_2) - D_2*alpha_1*b_{i}/(D_1 + D_2) - a_{i-1}*alpha_1 + 2*a_{i}*alpha_1 + a_{i}, D_1*a_{i-1}*alpha_1/(D_1 + D_2) - D_2*a_{i}*alpha_1/(D_1 + D_2) + D_2*alpha_1*b_{i+1}/(D_1 + D_2) + D_2*alpha_1*b_{i}/(D_1 + D_2) + a_{i-1}*alpha_1 - 2*a_{i}*alpha_1 + a_{i})"
      ]
     },
     "metadata": {},
     "output_type": "display_data"
    },
    {
     "data": {
      "text/latex": [
       "$\\displaystyle - \\frac{D_{2} \\alpha_{1} b_{i}}{D_{1} + D_{2}} + a_{i-1} \\left(- \\frac{D_{1} \\alpha_{1}}{D_{1} + D_{2}} - \\alpha_{1}\\right) + a_{i} \\left(\\frac{D_{2} \\alpha_{1}}{D_{1} + D_{2}} + 2 \\alpha_{1} + 1\\right) = \\frac{D_{2} \\alpha_{1} b_{i}}{D_{1} + D_{2}} + a_{i-1} \\left(\\frac{D_{1} \\alpha_{1}}{D_{1} + D_{2}} + \\alpha_{1}\\right) + a_{i} \\left(- \\frac{D_{2} \\alpha_{1}}{D_{1} + D_{2}} - 2 \\alpha_{1} + 1\\right)$"
      ],
      "text/plain": [
       "Eq(-D_2*alpha_1*b_{i}/(D_1 + D_2) + a_{i-1}*(-D_1*alpha_1/(D_1 + D_2) - alpha_1) + a_{i}*(D_2*alpha_1/(D_1 + D_2) + 2*alpha_1 + 1), D_2*alpha_1*b_{i}/(D_1 + D_2) + a_{i-1}*(D_1*alpha_1/(D_1 + D_2) + alpha_1) + a_{i}*(-D_2*alpha_1/(D_1 + D_2) - 2*alpha_1 + 1))"
      ]
     },
     "metadata": {},
     "output_type": "display_data"
    },
    {
     "data": {
      "text/latex": [
       "$\\displaystyle - \\frac{D_{1} a_{i} \\alpha_{2}}{D_{1} + D_{2}} + b_{i+1} \\left(- \\frac{D_{2} \\alpha_{2}}{D_{1} + D_{2}} - \\alpha_{2}\\right) + b_{i} \\left(\\frac{D_{1} \\alpha_{2}}{D_{1} + D_{2}} + 2 \\alpha_{2} + 1\\right) = \\frac{D_{1} a_{i} \\alpha_{2}}{D_{1} + D_{2}} + b_{i+1} \\left(\\frac{D_{2} \\alpha_{2}}{D_{1} + D_{2}} + \\alpha_{2}\\right) + b_{i} \\left(- \\frac{D_{1} \\alpha_{2}}{D_{1} + D_{2}} - 2 \\alpha_{2} + 1\\right)$"
      ],
      "text/plain": [
       "Eq(-D_1*a_{i}*alpha_2/(D_1 + D_2) + b_{i+1}*(-D_2*alpha_2/(D_1 + D_2) - alpha_2) + b_{i}*(D_1*alpha_2/(D_1 + D_2) + 2*alpha_2 + 1), D_1*a_{i}*alpha_2/(D_1 + D_2) + b_{i+1}*(D_2*alpha_2/(D_1 + D_2) + alpha_2) + b_{i}*(-D_1*alpha_2/(D_1 + D_2) - 2*alpha_2 + 1))"
      ]
     },
     "metadata": {},
     "output_type": "display_data"
    }
   ],
   "source": [
    "import sympy as sp\n",
    "from IPython.display import display\n",
    "\n",
    "# Definition der Symbole für Diffusionskoeffizienten und Variablen\n",
    "D_1, D_2 = sp.symbols('D_1 D_2')  # Diffusionskoeffizienten D_1 und D_2 für zwei verschiedene Schichten\n",
    "a_i_m, a_i, a_ip_dx_2, a_ip_dx, b_i_p, b_i, b_im_dx_2, b_im_dx = sp.symbols('a_{i-1} a_{i} a_{i+dx/2} a_{i+dx} b_{i+1} b_{i} b_{i-dx/2} b_{i-dx}')\n",
    "dx, dt = sp.symbols('\\Delta_x \\Delta_t')  # Schrittweite dx und Zeitschritt dt\n",
    "alpha_1, alpha_2 = sp.symbols('alpha_1 alpha_2')  # Skalierungsfaktoren für die Diskretisierung\n",
    "\n",
    "# Berechnungsterm für die Diffusion (alphan abhängig von Diffusionskoeffizienten, dx und dt)\n",
    "alpha_1_term = (D_1 * dt ) / (dx**2)\n",
    "alpha_2_term = (D_2 * dt ) / (dx**2)\n",
    "\n",
    "# Definition der Flusskontinuitätsgleichungen\n",
    "# Links: Fluss auf der Seite von Material A (abhängig von D_1, a_ip_dx und a_i_m)\n",
    "lhs_flux_continuity = D_1 * (a_ip_dx - a_i_m) / (dx)\n",
    "# Rechts: Fluss auf der Seite von Material B (abhängig von D_2, b_i_p und b_im_dx)\n",
    "rhs_flux_continuity = D_2 * (b_i_p - b_im_dx) / (dx)\n",
    "# Setze die beiden Flusskontinuitäten gleich (Kontinuitätsgleichung für den Fluss)\n",
    "flux_continuity = sp.Eq(lhs_flux_continuity, rhs_flux_continuity)\n",
    "display(flux_continuity)  # Anzeige der Flusskontinuitätsgleichung\n",
    "\n",
    "# Löse die Flusskontinuitätsgleichung nach a_ip_dx auf (Umformung der Gleichung)\n",
    "a_ip_dx_rew = sp.solve(flux_continuity, a_ip_dx)[0]\n",
    "display(sp.Eq(a_ip_dx, a_ip_dx_rew))  # Zeige die umgeformte Gleichung an\n",
    "\n",
    "# Definition der Konzentrationskontinuitätsgleichungen (an der Grenzfläche)\n",
    "# Links: Mittlere Konzentration auf der A-Seite\n",
    "lhs_concentration_continuity = (a_ip_dx + a_i) / 2\n",
    "# Rechts: Mittlere Konzentration auf der B-Seite\n",
    "rhs_concentration_continuity = (b_i + b_im_dx) / 2\n",
    "# Setze die Konzentrationen gleich (Kontinuitätsgleichung für Konzentrationen)\n",
    "concentration_continuity = sp.Eq(lhs_concentration_continuity, rhs_concentration_continuity)\n",
    "display(concentration_continuity)\n",
    "\n",
    "# Substituiere die umgeformte a_ip_dx Gleichung in die Konzentrationskontinuitätsgleichung\n",
    "concentration_continuity_sub = concentration_continuity.subs(a_ip_dx, a_ip_dx_rew)\n",
    "# Löse nach b_im_dx auf und vereinfache das Ergebnis\n",
    "b_im_dx_rew = sp.solve(concentration_continuity_sub, b_im_dx)[0].simplify()\n",
    "display(sp.Eq(b_im_dx, b_im_dx_rew))  # Zeige das Ergebnis für b_im_dx an\n",
    "\n",
    "# Substituiere b_im_dx in die umgeformte Gleichung für a_ip_dx\n",
    "a_ip_dx_final = a_ip_dx_rew.subs(b_im_dx, b_im_dx_rew).simplify()\n",
    "display(sp.Eq(a_ip_dx, a_ip_dx_final))  # Zeige das finale Ergebnis für a_ip_dx an\n",
    "\n",
    "# Substituiere a_ip_dx_final in die ursprüngliche Flusskontinuitätsgleichung\n",
    "flux_continuity_sub = flux_continuity.subs(a_ip_dx, a_ip_dx_final)\n",
    "display(flux_continuity_sub)  # Zeige die modifizierte Flusskontinuität an\n",
    "\n",
    "# Löse die modifizierte Flusskontinuitätsgleichung nach b_im_dx\n",
    "solutions = sp.solve(flux_continuity_sub, b_im_dx)\n",
    "display(solutions)  # Zeige die Lösungen für b_im_dx an\n",
    "\n",
    "# Schicht 1 (Layer 1) – Diskretisierung der Diffusionsgleichung für Material A\n",
    "# Linke Seite der Diskretisierungsgleichung (LHS)\n",
    "a_lhs = - alpha_1_term * a_i_m + (1 + 2 * alpha_1_term) * a_i - alpha_1_term * a_ip_dx\n",
    "# Rechte Seite der Diskretisierungsgleichung (RHS)\n",
    "a_rhs =  alpha_1_term * a_i_m + (1 - 2 * alpha_1_term) * a_i + alpha_1_term * a_ip_dx\n",
    "\n",
    "# Gleichung für die Diskretisierung von Schicht 1\n",
    "a_eq = sp.Eq(a_lhs, a_rhs)\n",
    "# Substituiere die finale a_ip_dx Gleichung in die Diskretisierungsgleichung von Schicht 1\n",
    "a_eq_subs_a = a_eq.subs(a_ip_dx, a_ip_dx_final)\n",
    "# Substituiere den Wert für alpha_1_term und expandiere die Gleichung\n",
    "a_eq_subs_alpha = a_eq_subs_a.subs(alpha_1_term, alpha_1).expand()\n",
    "display(a_eq_subs_alpha)  # Zeige die resultierende Gleichung an\n",
    "\n",
    "lhs_expr_a = a_eq_subs_alpha.lhs  # Linke Seite der Gleichung (LHS)\n",
    "rhs_expr_a = a_eq_subs_alpha.rhs  # Rechte Seite der Gleichung (RHS)\n",
    "\n",
    "# Bestimme die Koeffizienten von a_i, a_i_m und b_i auf der linken Seite (LHS)\n",
    "coeff_a_i_lhs = lhs_expr_a.coeff(a_i)\n",
    "coeff_a_im_lhs = lhs_expr_a.coeff(a_i_m)\n",
    "coeff_b_i_lhs = lhs_expr_a.coeff(b_i)\n",
    "\n",
    "# Bestimme die Koeffizienten von a_i, a_i_m und b_i auf der rechten Seite (RHS)\n",
    "coeff_a_i_rhs = rhs_expr_a.coeff(a_i)\n",
    "coeff_a_im_rhs = rhs_expr_a.coeff(a_i_m)\n",
    "coeff_b_i_rhs = rhs_expr_a.coeff(b_i)\n",
    "\n",
    "# Rekonstruiere die linke Seite (LHS) unter Verwendung der extrahierten Koeffizienten\n",
    "lhs_reconstructed = coeff_a_i_lhs * a_i + coeff_a_im_lhs * a_i_m + coeff_b_i_lhs * b_i\n",
    "# Rekonstruiere die rechte Seite (RHS) unter Verwendung der extrahierten Koeffizienten\n",
    "rhs_reconstructed = coeff_a_i_rhs * a_i + coeff_a_im_rhs * a_i_m + coeff_b_i_rhs * b_i\n",
    "\n",
    "# Erstelle eine neue Gleichung mit der rekonstruierten linken und rechten Seite\n",
    "new_eq_a = sp.Eq(lhs_reconstructed, rhs_reconstructed)\n",
    "display(new_eq_a)  # Zeige die neue Gleichung für Schicht 1 an\n",
    "\n",
    "# Schicht 2 (Layer 2) – Diskretisierung der Diffusionsgleichung für Material B\n",
    "# Linke Seite der Diskretisierungsgleichung (LHS)\n",
    "b_lhs = - alpha_2_term * b_im_dx + (1 + 2 * alpha_2_term) * b_i - alpha_2_term * b_i_p\n",
    "# Rechte Seite der Diskretisierungsgleichung (RHS)\n",
    "b_rhs =  alpha_2_term * b_im_dx + (1 - 2 * alpha_2_term) * b_i + alpha_2_term * b_i_p\n",
    "\n",
    "# Gleichung für die Diskretisierung von Schicht 2\n",
    "b_eq = sp.Eq(b_lhs, b_rhs)\n",
    "# Substituiere b_im_dx in die Diskretisierungsgleichung von Schicht 2\n",
    "b_eq_subs_b = b_eq.subs(b_im_dx, b_im_dx_rew)\n",
    "# Substituiere den Wert für alpha_2_term und expandiere die Gleichung\n",
    "b_eq_subs_alpha = b_eq_subs_b.subs(alpha_2_term, alpha_2).expand()\n",
    "\n",
    "lhs_expr_b = b_eq_subs_alpha.lhs  # Linke Seite der Gleichung (LHS)\n",
    "rhs_expr_b = b_eq_subs_alpha.rhs  # Rechte Seite der Gleichung (RHS)\n",
    "\n",
    "# Bestimme die Koeffizienten von b_i, b_i_p und a_i auf der linken Seite (LHS)\n",
    "coeff_b_i_lhs = lhs_expr_b.coeff(b_i)\n",
    "coeff_b_ip_lhs = lhs_expr_b.coeff(b_i_p)\n",
    "coeff_a_ib_lhs = lhs_expr_b.coeff(a_i)\n",
    "\n",
    "# Bestimme die Koeffizienten von b_i, b_i_p und a_i auf der rechten Seite (RHS)\n",
    "coeff_b_i_rhs = rhs_expr_b.coeff(b_i)\n",
    "coeff_b_ip_rhs = rhs_expr_b.coeff(b_i_p)\n",
    "coeff_a_ib_rhs = rhs_expr_b.coeff(a_i)\n",
    "\n",
    "# Rekonstruiere die linke Seite (LHS) unter Verwendung der extrahierten Koeffizienten\n",
    "lhs_reconstructed_b = coeff_b_i_lhs * b_i + coeff_a_ib_lhs * a_i + coeff_b_ip_lhs * b_i_p\n",
    "# Rekonstruiere die rechte Seite (RHS) unter Verwendung der extrahierten Koeffizienten\n",
    "rhs_reconstructed_b = coeff_b_i_rhs * b_i + coeff_a_ib_rhs * a_i + coeff_b_ip_rhs * b_i_p\n",
    "\n",
    "# Erstelle eine neue Gleichung mit der rekonstruierten linken und rechten Seite\n",
    "new_eq_b = sp.Eq(lhs_reconstructed_b, rhs_reconstructed_b)\n",
    "display(new_eq_b)  # Zeige die neue Gleichung für Schicht 2 an\n"
   ]
  },
  {
   "cell_type": "markdown",
   "metadata": {},
   "source": [
    "# Substituieren für die vereinfachte Darstellung"
   ]
  },
  {
   "cell_type": "code",
   "execution_count": 2,
   "metadata": {},
   "outputs": [
    {
     "data": {
      "text/latex": [
       "$\\displaystyle - a_{i-1} \\alpha_{1} \\theta - a_{i-1} \\alpha_{1} + a_{i} \\alpha_{1} \\phi + 2 a_{i} \\alpha_{1} + a_{i} - \\alpha_{1} b_{i} \\phi = a_{i-1} \\alpha_{1} \\theta + a_{i-1} \\alpha_{1} - a_{i} \\alpha_{1} \\phi - 2 a_{i} \\alpha_{1} + a_{i} + \\alpha_{1} b_{i} \\phi$"
      ],
      "text/plain": [
       "Eq(-a_{i-1}*alpha_1*theta - a_{i-1}*alpha_1 + a_{i}*alpha_1*phi + 2*a_{i}*alpha_1 + a_{i} - alpha_1*b_{i}*phi, a_{i-1}*alpha_1*theta + a_{i-1}*alpha_1 - a_{i}*alpha_1*phi - 2*a_{i}*alpha_1 + a_{i} + alpha_1*b_{i}*phi)"
      ]
     },
     "metadata": {},
     "output_type": "display_data"
    },
    {
     "name": "stdout",
     "output_type": "stream",
     "text": [
      "Linke Seite Schicht 1\n"
     ]
    },
    {
     "data": {
      "text/latex": [
       "$\\displaystyle a_{i-1} \\left(- \\alpha_{1} \\theta - \\alpha_{1}\\right) + a_{i} \\left(\\alpha_{1} \\phi + 2 \\alpha_{1} + 1\\right) - \\alpha_{1} b_{i} \\phi$"
      ],
      "text/plain": [
       "a_{i-1}*(-alpha_1*theta - alpha_1) + a_{i}*(alpha_1*phi + 2*alpha_1 + 1) - alpha_1*b_{i}*phi"
      ]
     },
     "metadata": {},
     "output_type": "display_data"
    },
    {
     "name": "stdout",
     "output_type": "stream",
     "text": [
      "Rechte Seite Schicht 1\n"
     ]
    },
    {
     "data": {
      "text/latex": [
       "$\\displaystyle a_{i-1} \\left(\\alpha_{1} \\theta + \\alpha_{1}\\right) + a_{i} \\left(- \\alpha_{1} \\phi - 2 \\alpha_{1} + 1\\right) + \\alpha_{1} b_{i} \\phi$"
      ],
      "text/plain": [
       "a_{i-1}*(alpha_1*theta + alpha_1) + a_{i}*(-alpha_1*phi - 2*alpha_1 + 1) + alpha_1*b_{i}*phi"
      ]
     },
     "metadata": {},
     "output_type": "display_data"
    },
    {
     "name": "stdout",
     "output_type": "stream",
     "text": [
      "Linke Seite Schicht 2\n"
     ]
    },
    {
     "data": {
      "text/latex": [
       "$\\displaystyle - a_{i} \\alpha_{2} \\theta + b_{i+1} \\left(- \\alpha_{2} \\phi - \\alpha_{2}\\right) + b_{i} \\left(\\alpha_{2} \\theta + 2 \\alpha_{2} + 1\\right)$"
      ],
      "text/plain": [
       "-a_{i}*alpha_2*theta + b_{i+1}*(-alpha_2*phi - alpha_2) + b_{i}*(alpha_2*theta + 2*alpha_2 + 1)"
      ]
     },
     "metadata": {},
     "output_type": "display_data"
    },
    {
     "name": "stdout",
     "output_type": "stream",
     "text": [
      "Rechte Seite Schicht 2\n"
     ]
    },
    {
     "data": {
      "text/latex": [
       "$\\displaystyle a_{i} \\alpha_{2} \\theta + b_{i+1} \\left(\\alpha_{2} \\phi + \\alpha_{2}\\right) + b_{i} \\left(- \\alpha_{2} \\theta - 2 \\alpha_{2} + 1\\right)$"
      ],
      "text/plain": [
       "a_{i}*alpha_2*theta + b_{i+1}*(alpha_2*phi + alpha_2) + b_{i}*(-alpha_2*theta - 2*alpha_2 + 1)"
      ]
     },
     "metadata": {},
     "output_type": "display_data"
    }
   ],
   "source": [
    "# Definiere die Symbole phi und theta\n",
    "phi, theta = sp.symbols('phi theta')\n",
    "\n",
    "# Berechne die Terme theta und phi als Brüche der Diffusionskoeffizienten\n",
    "theta_term = D_1 / (D_1 + D_2)  # Verhältnis der Diffusionskoeffizienten von Schicht A zu A+B\n",
    "phi_term = D_2 / (D_1 + D_2)    # Verhältnis der Diffusionskoeffizienten von Schicht B zu A+B\n",
    "\n",
    "# SCHICHT A (Layer A)\n",
    "# Substituiere die Terme phi und theta in die Gleichung für Schicht A ein und expandiere die Gleichung\n",
    "new_eq_a_subs = new_eq_a.subs({phi_term: phi, theta_term: theta}).expand()\n",
    "display(new_eq_a_subs)  # Zeige die neue Gleichung für Schicht A an\n",
    "\n",
    "# Extrahiere die linke und rechte Seite der neuen Gleichung\n",
    "lhs_expr = new_eq_a_subs.lhs  # Linke Seite der Gleichung\n",
    "rhs_expr = new_eq_a_subs.rhs  # Rechte Seite der Gleichung\n",
    "\n",
    "# Extrahiere die Koeffizienten für die Variablen a_i, a_i_m und b_i aus der linken Seite (LHS) der Gleichung\n",
    "coeff_a_i_lhs = lhs_expr.coeff(a_i)\n",
    "coeff_a_im_lhs = lhs_expr.coeff(a_i_m)\n",
    "coeff_b_i_lhs = lhs_expr.coeff(b_i)\n",
    "\n",
    "# Extrahiere die Koeffizienten für die Variablen a_i, a_i_m und b_i aus der rechten Seite (RHS) der Gleichung\n",
    "coeff_a_i_rhs = rhs_expr.coeff(a_i)\n",
    "coeff_a_im_rhs = rhs_expr.coeff(a_i_m)\n",
    "coeff_b_i_rhs = rhs_expr.coeff(b_i)\n",
    "\n",
    "# Rekonstruiere die linke Seite (LHS), indem die Koeffizienten mit den Variablen multipliziert werden\n",
    "lhs_recombined = coeff_a_i_lhs * a_i + coeff_a_im_lhs * a_i_m + coeff_b_i_lhs * b_i\n",
    "\n",
    "# Rekonstruiere die rechte Seite (RHS), indem die Koeffizienten mit den Variablen multipliziert werden\n",
    "rhs_recombined = coeff_a_i_rhs * a_i + coeff_a_im_rhs * a_i_m + coeff_b_i_rhs * b_i\n",
    "\n",
    "# Ausgabe der rekonstruierten linken und rechten Seite der Gleichung für Schicht A\n",
    "print('Linke Seite Schicht 1')\n",
    "display(lhs_recombined)\n",
    "\n",
    "print('Rechte Seite Schicht 1')\n",
    "display(rhs_recombined)\n",
    "\n",
    "# Erstelle die neue Gleichung, indem die rekonstruierten linken und rechten Seiten gleichgesetzt werden\n",
    "recombined_eq = sp.Eq(lhs_recombined, rhs_recombined)\n",
    "\n",
    "# SCHICHT B (Layer B)\n",
    "# Substituiere die Terme phi und theta in die Gleichung für Schicht B ein und expandiere die Gleichung\n",
    "new_eq_b_subs = new_eq_b.subs({phi_term: phi, theta_term: theta}).expand()\n",
    "\n",
    "# Extrahiere die linke und rechte Seite der neuen Gleichung für Schicht B\n",
    "lhs_expr_b_subs = new_eq_b_subs.lhs  # Linke Seite der Gleichung für Schicht B\n",
    "rhs_expr_b_subs = new_eq_b_subs.rhs  # Rechte Seite der Gleichung für Schicht B\n",
    "\n",
    "# Extrahiere die Koeffizienten für die Variablen b_i, b_i_p und a_i aus der linken Seite (LHS) der Gleichung für Schicht B\n",
    "coeff_b_i_lhs_subs = lhs_expr_b_subs.coeff(b_i)\n",
    "coeff_b_ip_lhs_subs = lhs_expr_b_subs.coeff(b_i_p)\n",
    "coeff_a_ib_lhs_subs = lhs_expr_b_subs.coeff(a_i)\n",
    "\n",
    "# Extrahiere die Koeffizienten für die Variablen b_i, b_i_p und a_i aus der rechten Seite (RHS) der Gleichung für Schicht B\n",
    "coeff_b_i_rhs_subs = rhs_expr_b_subs.coeff(b_i)\n",
    "coeff_b_ip_rhs_subs = rhs_expr_b_subs.coeff(b_i_p)\n",
    "coeff_a_ib_rhs_subs = rhs_expr_b_subs.coeff(a_i)\n",
    "\n",
    "# Rekonstruiere die linke Seite (LHS) der Gleichung für Schicht B, indem die Koeffizienten mit den Variablen multipliziert werden\n",
    "lhs_recombined_b_subs = coeff_b_i_lhs_subs * b_i + coeff_b_ip_lhs_subs * b_i_p + coeff_a_ib_lhs_subs * a_i\n",
    "\n",
    "# Rekonstruiere die rechte Seite (RHS) der Gleichung für Schicht B, indem die Koeffizienten mit den Variablen multipliziert werden\n",
    "rhs_recombined_b_subs = coeff_b_i_rhs_subs * b_i + coeff_b_ip_rhs_subs * b_i_p + coeff_a_ib_rhs_subs * a_i\n",
    "\n",
    "# Ausgabe der rekonstruierten linken und rechten Seite der Gleichung für Schicht B\n",
    "print('Linke Seite Schicht 2')\n",
    "display(lhs_recombined_b_subs)\n",
    "\n",
    "print('Rechte Seite Schicht 2')\n",
    "display(rhs_recombined_b_subs)\n",
    "\n",
    "# Erstelle die neue Gleichung für Schicht B, indem die rekonstruierten linken und rechten Seiten gleichgesetzt werden\n",
    "recombined_eq_b_subs = sp.Eq(lhs_recombined_b_subs, rhs_recombined_b_subs)\n"
   ]
  }
 ],
 "metadata": {
  "kernelspec": {
   "display_name": "base",
   "language": "python",
   "name": "python3"
  },
  "language_info": {
   "codemirror_mode": {
    "name": "ipython",
    "version": 3
   },
   "file_extension": ".py",
   "mimetype": "text/x-python",
   "name": "python",
   "nbconvert_exporter": "python",
   "pygments_lexer": "ipython3",
   "version": "3.11.7"
  }
 },
 "nbformat": 4,
 "nbformat_minor": 2
}
