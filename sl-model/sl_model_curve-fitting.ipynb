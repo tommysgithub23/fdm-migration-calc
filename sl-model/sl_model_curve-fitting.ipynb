{
 "cells": [
  {
   "cell_type": "markdown",
   "metadata": {},
   "source": [
    "# Imports"
   ]
  },
  {
   "cell_type": "code",
   "execution_count": 1,
   "metadata": {},
   "outputs": [],
   "source": [
    "import numpy as np"
   ]
  },
  {
   "cell_type": "code",
   "execution_count": null,
   "metadata": {},
   "outputs": [],
   "source": [
    "def calculate_migration_timestep(D_P, c_t, P_density, K_PF, t_step, V_P, V_F, d_P, d_F, A_PF):\n",
    "    alpha = (1 / K_PF) * (d_F / d_P)\n",
    "    upper_alpha = 10\n",
    "\n",
    "    def calculate_q_n(n, alpha):\n",
    "        if alpha < 0.1:\n",
    "            return n * np.pi / (1 + alpha)\n",
    "        elif alpha > upper_alpha:\n",
    "            return (2 * n - 1) * np.pi / 2\n",
    "        else:\n",
    "            return (n - (alpha / (2 * (1 + alpha)))) * np.pi\n",
    "\n",
    "    sum_a = 0\n",
    "    k = 1\n",
    "    while True:\n",
    "        q_n = calculate_q_n(k, alpha)\n",
    "        if alpha > upper_alpha:\n",
    "            sum_term_i = (2 / q_n**2) * np.exp(-q_n**2 * (D_P / d_P**2) * t_step)\n",
    "        else:\n",
    "            sum_term_i = (2 * alpha * (1 + alpha)) / (1 + alpha + alpha**2 * q_n**2) * np.exp(-q_n**2 * (D_P / d_P**2) * t_step)\n",
    "\n",
    "        sum_before = sum_a\n",
    "        sum_a += sum_term_i\n",
    "\n",
    "        # Terminierung der unendlichen Summe\n",
    "        if abs(sum_a - sum_before) < 1e-6:\n",
    "            break\n",
    "        k += 1\n",
    "\n",
    "    # Berechnet Migrationsmenge zu dem Zeitpunkt t_step und Fallunterscheidung abhängig von alpha\n",
    "    if alpha > upper_alpha:\n",
    "        migration_amount = c_t * P_density * d_P * (1 - sum_a)\n",
    "    else:\n",
    "        migration_amount = c_t * P_density * d_P * (alpha / (1 + alpha)) * (1 - sum_a)\n",
    "\n",
    "    # Verhindert negative Konzentrationen\n",
    "    if migration_amount < 0:\n",
    "        migration_amount = 0\n",
    "\n",
    "    return migration_amount\n",
    "\n",
    "def migrationsmodell_piringer_for_curve_fitting(c_P0, P_density, K_PF, t_max, V_P, V_F, d_P, d_F, A_PF, dt, D_P_known):\n",
    "\n",
    "    D_P = D_P_known\n",
    "\n",
    "    migration_data = []\n",
    "    current_time = 0\n",
    "\n",
    "    while current_time < t_max:\n",
    "        migration_amount = calculate_migration_timestep(D_P, c_P0, P_density, K_PF, current_time, V_P, V_F, d_P, d_F, A_PF)\n",
    "        migration_data.append(migration_amount)\n",
    "        current_time += dt\n",
    "        \n",
    "    migration_data = np.array(migration_data) / 10 # Umrechnung in [mg/dm²]\n",
    "\n",
    "    return migration_data"
   ]
  },
  {
   "cell_type": "code",
   "execution_count": null,
   "metadata": {},
   "outputs": [],
   "source": [
    "# Physikalisch-chemische Eigenschaften\n",
    "# M_r = 136            # relative Molekülmasse des Migranten [g/mol]\n",
    "# T_C = 20             # Temperatur [°C]\n",
    "# Material = \"PP\"   # Material des Polymers [-]\n",
    "\n",
    "c_P0 = 200           # Anfangskonzentration im Polymer [mg/kg]\n",
    "P_density = 0.9045    # Dichte des Polymers [g/cm^3]\n",
    "F_density = 0.9      # Dichte des Fluids [g/cm^3]\n",
    "K_PF = 1             # Verteilungskoeffizient [-]\n",
    "t_max = 3600 * 24 * 100   # Simulationszeit [s]\n",
    "\n",
    "# Geometrische Größen\n",
    "d_P = 0.2            # Durchmesser des Polymers [cm]\n",
    "d_F = 1.85           # Durchmesser des Fluids [cm]\n",
    "A_PF = 0.2827             # Kontaktfläche Polymer/Fluid [dm^2] (nach Norm)\n",
    "V_P = d_P * A_PF * 1e2    # Volumen des Polymers [cm^3]\n",
    "V_F = d_F * A_PF * 1e2    # Volumen des Fluids [cm^3]\n",
    "\n",
    "D_P_var = 1e-8      # Exemplarischer Diffusionskoeffizient in [cm^2/s]"
   ]
  },
  {
   "cell_type": "code",
   "execution_count": null,
   "metadata": {},
   "outputs": [],
   "source": [
    "area_specific_migration = migrationsmodell_piringer_for_curve_fitting(c_P0, P_density, K_PF, t_max, V_P, V_F, d_P, d_F, A_PF, D_P_var) # flächenspezifische Migration in [mg/dm^2]\n",
    "specific_migration = area_specific_migration * A_PF # spezifische Migration (nicht auf die Fläche bezogen) [mg]\n"
   ]
  },
  {
   "cell_type": "code",
   "execution_count": 2,
   "metadata": {},
   "outputs": [
    {
     "data": {
      "text/plain": [
       "array([ 604800, 1209600, 2419200])"
      ]
     },
     "execution_count": 2,
     "metadata": {},
     "output_type": "execute_result"
    }
   ],
   "source": [
    "# Messwerte\n",
    "time_days = np.array([7, 14, 28]) # Zeitpunkte der Messungen aus Migrationsversuchen in Tagen\n",
    "time_seconds = time_days * 3600 * 24\n",
    "\n",
    "migration_amount_messured = [6.4, 10.2, 12.2] # Messwerte der Konzentration in Kontaktphase in [mg/kg]"
   ]
  }
 ],
 "metadata": {
  "kernelspec": {
   "display_name": "fdm-migration_env",
   "language": "python",
   "name": "python3"
  },
  "language_info": {
   "codemirror_mode": {
    "name": "ipython",
    "version": 3
   },
   "file_extension": ".py",
   "mimetype": "text/x-python",
   "name": "python",
   "nbconvert_exporter": "python",
   "pygments_lexer": "ipython3",
   "version": "3.12.8"
  }
 },
 "nbformat": 4,
 "nbformat_minor": 2
}
