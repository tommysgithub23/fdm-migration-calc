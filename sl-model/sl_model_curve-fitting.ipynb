{
 "cells": [
  {
   "cell_type": "markdown",
   "metadata": {},
   "source": [
    "# Imports"
   ]
  },
  {
   "cell_type": "code",
   "execution_count": 52,
   "metadata": {},
   "outputs": [],
   "source": [
    "import numpy as np\n",
    "import matplotlib.pyplot as plt\n",
    "import os"
   ]
  },
  {
   "cell_type": "code",
   "execution_count": 53,
   "metadata": {},
   "outputs": [],
   "source": [
    "def calculate_migration_timestep(D_P, c_t, P_density, K_PF, t_step, V_P, V_F, d_P, d_F, A_PF):\n",
    "    alpha = (1 / K_PF) * (V_F / V_P)\n",
    "    upper_alpha = 10\n",
    "\n",
    "    def calculate_q_n(n, alpha):\n",
    "        if alpha < 0.1:\n",
    "            return n * np.pi / (1 + alpha)\n",
    "        elif alpha > upper_alpha:\n",
    "            return (2 * n - 1) * np.pi / 2\n",
    "        else:\n",
    "            return (n - (alpha / (2 * (1 + alpha)))) * np.pi\n",
    "\n",
    "    sum_a = 0\n",
    "    k = 1\n",
    "    while True:\n",
    "        q_n = calculate_q_n(k, alpha)\n",
    "        if alpha > upper_alpha:\n",
    "            sum_term_i = (2 / q_n**2) * np.exp(-q_n**2 * (D_P / d_P**2) * t_step)\n",
    "        else:\n",
    "            sum_term_i = (2 * alpha * (1 + alpha)) / (1 + alpha + alpha**2 * q_n**2) * np.exp(-q_n**2 * (D_P / d_P**2) * t_step)\n",
    "\n",
    "        sum_before = sum_a\n",
    "        sum_a += sum_term_i\n",
    "\n",
    "        # Terminierung der unendlichen Summe\n",
    "        if abs(sum_a - sum_before) < 1e-6:\n",
    "            break\n",
    "        k += 1\n",
    "\n",
    "    # Berechnet Migrationsmenge zu dem Zeitpunkt t_step und Fallunterscheidung abhängig von alpha\n",
    "    if alpha > upper_alpha:\n",
    "        migration_amount = c_t * P_density * d_P * (1 - sum_a)\n",
    "    else:\n",
    "        migration_amount = c_t * P_density * d_P * (alpha / (1 + alpha)) * (1 - sum_a)\n",
    "\n",
    "    # Verhindert negative Konzentrationen\n",
    "    if migration_amount < 0:\n",
    "        migration_amount = 0\n",
    "\n",
    "    return migration_amount\n",
    "\n",
    "def migrationsmodell_piringer_for_curve_fitting(c_P0, P_density, K_PF, t_max, V_P, V_F, d_P, d_F, A_PF, dt, D_P_known):\n",
    "\n",
    "    D_P = D_P_known\n",
    "\n",
    "    migration_data = []\n",
    "    current_time = 0\n",
    "\n",
    "    while current_time < t_max:\n",
    "        migration_amount = calculate_migration_timestep(D_P, c_P0, P_density, K_PF, current_time, V_P, V_F, d_P, d_F, A_PF)\n",
    "        migration_data.append(migration_amount)\n",
    "        current_time += dt\n",
    "        \n",
    "    migration_data = (np.array(migration_data) - migration_data[0]) / 10  # Umrechnung in [mg/dm²]\n",
    "\n",
    "    return migration_data\n",
    "\n",
    "def plot_results_area(results, t_max, dt, save_path=None): \n",
    "    # Plot the area-specific migration results\n",
    "    plt.figure(figsize=(10, 6))\n",
    "    time_days = np.arange(0, t_max / (3600 * 24), dt / (3600 * 24))\n",
    "    plt.plot(time_days, results, linewidth = 2, color = '#F06D1D')\n",
    "    \n",
    "    # Plot speichern, wenn ein Pfad angegeben wurde\n",
    "    if save_path:\n",
    "        plot_filename = os.path.join(save_path, 'migrated_mass_plot.pdf')\n",
    "        plt.savefig(plot_filename, bbox_inches='tight')\n",
    "        print(f\"Migrationsplot gespeichert unter: {plot_filename}\")\n",
    "              \n",
    "    # Achsenbeschriftungen und Titel\n",
    "    plt.xlabel('Zeit $[Tage]$', fontsize=14)\n",
    "    plt.ylabel('spez. Migrationsmenge $[mg/dm^2]$', fontsize=14)\n",
    "    plt.xticks(fontsize=14)\n",
    "    plt.yticks(fontsize=14)\n",
    "    plt.show()\n",
    "\n",
    "def error_function(D_P_candidate, c_P0, P_density, K_PF, t_max, V_P, V_F, d_P, d_F, A_PF, dt, measured_values, measurement_days):\n",
    "    simulation_result = migrationsmodell_piringer_for_curve_fitting(c_P0, P_density, K_PF, t_max, V_P, V_F, d_P, d_F, A_PF, dt, D_P_candidate)\n",
    "    \n",
    "    # Indizes: Messzeit in Tagen - 1 (z. B. Tag 7 -> Index 6)\n",
    "    indices = [day - 1 for day in measurement_days]\n",
    "    \n",
    "    sim_values = simulation_result[indices]\n",
    "    \n",
    "    error = np.sum((sim_values - measured_values)**2)\n",
    "    return error\n",
    "\n",
    "\n",
    "# Physikalisch-chemische Eigenschaften\n",
    "# M_r = 136            # relative Molekülmasse des Migranten [g/mol]\n",
    "# T_C = 20             # Temperatur [°C]\n",
    "# Material = \"PP\"   # Material des Polymers [-]\n",
    "\n",
    "c_P0 = 661           # Anfangskonzentration im Polymer [mg/kg]\n",
    "P_density = 0.9045   # Dichte des Polymers [g/cm^3]\n",
    "F_density = 0.9      # Dichte des Fluids [g/cm^3]\n",
    "K_PF = 1             # Verteilungskoeffizient [-]\n",
    "dt = 3600 * 24           # 1 Tag in Sekunden\n",
    "t_max = 28 * dt      # 28 Tage in Sekunden\n",
    "\n",
    "# Geometrische Größen\n",
    "A_PF = 0.2827             # Kontaktfläche Polymer/Fluid [dm^2] (MigraCell 60)\n",
    "V_P = 10.6384    # Volumen des Polymers [cm^3] (von Andre)\n",
    "V_F = 28.27    # Volumen des Fluids [cm^3] (von Andre)\n",
    "d_P = V_P / (A_PF * 1e2)           # Durchmesser des Polymers [cm]\n",
    "d_F = V_F / (A_PF * 1e2)            # Durchmesser des Fluids [cm]\n",
    "\n",
    "D_P_var = 1e-8      # Exemplarischer Diffusionskoeffizient in [cm^2/s]\n",
    "\n"
   ]
  },
  {
   "cell_type": "code",
   "execution_count": 54,
   "metadata": {},
   "outputs": [
    {
     "data": {
      "text/plain": [
       "(0.3763141139016626, 1.0)"
      ]
     },
     "execution_count": 54,
     "metadata": {},
     "output_type": "execute_result"
    }
   ],
   "source": [
    "# Umrechnung von Einheiten\n",
    "m_F = V_F * F_density * 1e-3  # Masse der Kontaktphase in [kg]\n",
    "\n",
    "d_P,d_F"
   ]
  },
  {
   "cell_type": "code",
   "execution_count": 55,
   "metadata": {},
   "outputs": [
    {
     "name": "stdout",
     "output_type": "stream",
     "text": [
      "[0.576 0.918 1.098]\n"
     ]
    }
   ],
   "source": [
    "\n",
    "# Definieren Sie den Suchbereich in logarithmischem Maßstab:\n",
    "D_P_candidates = np.logspace(-15, -10, num=100)  # 100 Kandidatenwerte\n",
    "\n",
    "measurement_days = np.array([7, 14, 28])    # Zeitpunkte der Messungen aus Migrationsversuchen in Tagen\n",
    "measured_values = (np.array([6.4, 10.2, 12.2]) / A_PF) * m_F # Messwerte der Konzentration (Amberon 60°C) in Kontaktphase in [mg/dm^2]\n",
    "\n",
    "print(measured_values)"
   ]
  },
  {
   "cell_type": "code",
   "execution_count": 56,
   "metadata": {},
   "outputs": [
    {
     "name": "stdout",
     "output_type": "stream",
     "text": [
      "Optimierter Diffusionskoeffizient: 1e-10 cm²/s\n"
     ]
    }
   ],
   "source": [
    "\n",
    "\n",
    "errors = []\n",
    "for D_P_candidate in D_P_candidates:\n",
    "    err = error_function(D_P_candidate, c_P0, P_density, K_PF, t_max, V_P, V_F, d_P, d_F, A_PF, dt, measured_values, measurement_days)\n",
    "    errors.append(err)\n",
    "\n",
    "errors = np.array(errors)\n",
    "optimal_index = np.argmin(errors)\n",
    "optimal_D_P = D_P_candidates[optimal_index]\n",
    "print(\"Optimierter Diffusionskoeffizient:\", optimal_D_P, \"cm²/s\")\n"
   ]
  },
  {
   "cell_type": "code",
   "execution_count": 57,
   "metadata": {},
   "outputs": [
    {
     "data": {
      "image/png": "[encoded data removed]",
      "text/plain": [
       "<Figure size 1000x600 with 1 Axes>"
      ]
     },
     "metadata": {},
     "output_type": "display_data"
    }
   ],
   "source": [
    "# Simulation mit dem optimierten Diffusionskoeffizienten\n",
    "optimal_simulation = migrationsmodell_piringer_for_curve_fitting(c_P0, P_density, K_PF, t_max, V_P, V_F, d_P, d_F, A_PF, dt, 1e-10)\n",
    "\n",
    "# Zeitachse in Tagen (da dt = 1 Tag in Sekunden)\n",
    "time_days_full = np.arange(0, t_max / 86400, 1)  # 0, 1, 2, ..., 27\n",
    "\n",
    "# Plot der gesamten berechneten Kurve\n",
    "plt.figure(figsize=(10, 6))\n",
    "plt.plot(time_days_full, optimal_simulation, label='Simulierte Migration', linewidth=2, color='#F06D1D')\n",
    "\n",
    "# # Overlay der Messwerte\n",
    "plt.scatter(measurement_days, measured_values, label='Gemessene Migration', color='blue', s=80, zorder=5)\n",
    "\n",
    "# Achsenbeschriftungen und Titel\n",
    "plt.xlabel('Zeit [Tage]', fontsize=14)\n",
    "plt.ylabel('Flächenspezifische Migrationsmenge [mg/dm²]', fontsize=14)\n",
    "plt.legend(fontsize=12)\n",
    "plt.xticks(fontsize=14)\n",
    "plt.yticks(fontsize=14)\n",
    "plt.title(\"Vergleich: Gemessene vs. simulierte Migration\", fontsize=16)\n",
    "plt.show()\n",
    "\n"
   ]
  }
 ],
 "metadata": {
  "kernelspec": {
   "display_name": "fdm-migration_env",
   "language": "python",
   "name": "python3"
  },
  "language_info": {
   "codemirror_mode": {
    "name": "ipython",
    "version": 3
   },
   "file_extension": ".py",
   "mimetype": "text/x-python",
   "name": "python",
   "nbconvert_exporter": "python",
   "pygments_lexer": "ipython3",
   "version": "3.12.8"
  }
 },
 "nbformat": 4,
 "nbformat_minor": 2
}
