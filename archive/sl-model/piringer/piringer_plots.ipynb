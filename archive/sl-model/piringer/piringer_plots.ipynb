{
 "cells": [
  {
   "cell_type": "markdown",
   "metadata": {},
   "source": [
    "# Funktionen Piringer Modell "
   ]
  },
  {
   "cell_type": "markdown",
   "metadata": {},
   "source": [
    "## Model functions"
   ]
  },
  {
   "cell_type": "code",
   "execution_count": 1,
   "metadata": {},
   "outputs": [],
   "source": [
    "def get_material_data(material):\n",
    "    # Datenbankabfrage hier noch erweiterbaR\n",
    "    # material_parameter = worst case\n",
    "    material_parameters = {\n",
    "        \"LDPE\": {\"A_Pt\": 11.7, \"tau\": 0},\n",
    "        # \"LDPE\": {\"A_Pt\": 11.5, \"tau\": 0}, #  von AKTS\n",
    "        \"HDPE\": {\"A_Pt\": 13.2, \"tau\": 1577},\n",
    "        # \"HDPE\": {\"A_Pt\": 11.9, \"tau\": 1577}, # für Validierung\n",
    "        \"LLDPE\": {\"A_Pt\": 11.5, \"tau\": 0},\n",
    "        # \"LLDPE\": {\"A_Pt\": 9.8, \"tau\": 0}, # für Validierung\n",
    "        \"PP\": {\"A_Pt\": 12.4, \"tau\": 1577},\n",
    "        \"PET\": {\"A_Pt\": 6.35, \"tau\": 1577},\n",
    "        \"PS\": {\"A_Pt\": -0.7, \"tau\": 0},\n",
    "        \"PEN\": {\"A_Pt\": 3.7, \"tau\": 1577},\n",
    "        \"HIPS\": {\"A_Pt\": 0.1, \"tau\": 0}\n",
    "    }\n",
    "\n",
    "    material_parameters_best_case = {\n",
    "        \"LDPE\": {\"A_Pt\": 10.0, \"tau\": 0},\n",
    "        \"HDPE\": {\"A_Pt\": 10.0, \"tau\": 1577},\n",
    "        # \"LLDPE\": {\"A_Pt\": 11.5, \"tau\": 0},\n",
    "        \"PP\": {\"A_Pt\": 9.4, \"tau\": 1577},\n",
    "        \"PET\": {\"A_Pt\": 2.2, \"tau\": 1577},\n",
    "        \"PS\": {\"A_Pt\": -2.8, \"tau\": 0},\n",
    "        \"PEN\": {\"A_Pt\": -0.34, \"tau\": 1577},\n",
    "        \"HIPS\": {\"A_Pt\": -2.7, \"tau\": 0}\n",
    "    }\n",
    "\n",
    "    if material in material_parameters:\n",
    "        return material_parameters[material]\n",
    "    else:\n",
    "        raise ValueError(\"Unbekanntes Material\")\n",
    "\n",
    "def diffusion_coefficient_Piringer(M_mw, T_C, material_params):\n",
    "    A_Pt, tau = material_params['A_Pt'], material_params['tau']\n",
    "    T = 273.15 + T_C  # Temperatur in K\n",
    "    M_r = 12 * (M_mw / 12)  # relative Molekülmasse des Migranten (Da) \n",
    "    R = 8.3145  # Gaskonstante (J/(mol*K))\n",
    "    E_A = (10454 + tau) * R  # Diffusionsaktivierungsenergie\n",
    "    A_P = A_Pt - (tau / T)\n",
    "    D_0 = 1e4  # D_0 nach Piringer Modell \n",
    "    if M_r <= 4000: \n",
    "        return D_0 * np.exp(A_P - 0.1351 * M_r**(2 / 3) + 0.003 * M_r - (10454 * R / (R * T)))  # Diffusionskoeffizient in [cm^2/s] (nach Pirigner)\n",
    "    else: \n",
    "        raise ValueError(\"M_r über 4000 Dalton, andere Berechnung von D_P nötig!\")\n",
    "\n",
    "def calculate_migration_timestep(D_P, c_t, P_density, F_density, K_PF, t_step, V_P, V_F, d_P, d_F, A_PF):\n",
    "    alpha = (1 / K_PF) * (d_F / d_P)  # Dimensionlöse Größe alpha\n",
    "    # upper_alpha = 3\n",
    "    # lower_alpha = 0.001\n",
    "    # def calculate_q_n(n, alpha):\n",
    "    #     if alpha < lower_alpha:\n",
    "    #         return n * np.pi / (1 + alpha)\n",
    "    #     else:\n",
    "    #         return (n - (alpha / (2 * (1 + alpha)))) * np.pi\n",
    "\n",
    "    upper_alpha = 100\n",
    "    def calculate_q_n(n, alpha):\n",
    "        if alpha < 0.001:\n",
    "            return n * np.pi / (1 + alpha)\n",
    "        elif alpha > upper_alpha:\n",
    "            return (2 * n - 1) * np.pi / 2\n",
    "        else:\n",
    "            return (n - (alpha / (2 * (1 + alpha)))) * np.pi\n",
    "\n",
    "    sum_a = 0   # Anfang der Summe\n",
    "    k = 1       # Summand k\n",
    "    while True:\n",
    "        q_n = calculate_q_n(k, alpha)\n",
    "        # sum_term_i = (2 * alpha * (1 + alpha)) / (1 + alpha + alpha**2 * q_n**2) * np.exp(-q_n**2 * (D_P / d_P**2) * t_step)\n",
    "        # sum_term_i = (2 / q_n**2) * np.exp(-q_n**2 * (D_P / d_P**2) * t_step)\n",
    "        \n",
    "        \n",
    "        if alpha > upper_alpha:\n",
    "            sum_term_i = (2 / q_n**2) * np.exp(-q_n**2 * (D_P / d_P**2) * t_step)\n",
    "        else:\n",
    "            sum_term_i = (2 * alpha * (1 + alpha)) / (1 + alpha + alpha**2 * q_n**2) * np.exp(-q_n**2 * (D_P / d_P**2) * t_step)\n",
    "            \n",
    "        sum_before = sum_a\n",
    "        sum_a += sum_term_i\n",
    "        \n",
    "        # Terminierung der unendlichen Summe\n",
    "        if abs(sum_a - sum_before) < 1e-6:\n",
    "            break\n",
    "        k += 1\n",
    "\n",
    "        \n",
    "    # migration_amount = c_t * P_density * d_P  * (1 - sum_a)\n",
    "    # migration_amount = c_t * P_density * d_P * (alpha / (1 + alpha)) * (1 - sum_a)\n",
    "        \n",
    "    # Berechnet Migrationsmenge zu dem Zeitpunkt t_step und Fallunterscheidung abhängig von alpha\n",
    "    if alpha > upper_alpha: \n",
    "        migration_amount = c_t * P_density * d_P  * (1 - sum_a)\n",
    "    else:\n",
    "        migration_amount = c_t * P_density * d_P * (alpha / (1 + alpha)) * (1 - sum_a)\n",
    "\n",
    "    # Verhindert negative Konzentrationen\n",
    "    if migration_amount < 0: \n",
    "        migration_amount = 0\n",
    "        \n",
    "    return migration_amount\n",
    "\n",
    "def migrationsmodell_piringer(M_mw, T_C, c_P0, Material, P_density, F_density, K_PF, max_time, V_P, V_F, d_P, d_F, A_PF, timestep):\n",
    "    material_params = get_material_data(Material)\n",
    "    # Eingabe Diffusionskoeffizient\n",
    "    D_P = diffusion_coefficient_Piringer(M_mw, T_C, material_params)\n",
    "    migration_data = []\n",
    "    current_time = 0\n",
    "    while current_time < max_time:\n",
    "        migration_amount = calculate_migration_timestep(D_P, c_P0, P_density, F_density, K_PF, current_time, V_P, V_F, d_P, d_F, A_PF)\n",
    "        # Umrechnung in mg/dm^2\n",
    "        migration_amount_area = migration_amount / 10\n",
    "        migration_data.append(migration_amount_area)\n",
    "        current_time += timestep\n",
    "\n",
    "    return migration_data \n"
   ]
  },
  {
   "cell_type": "markdown",
   "metadata": {},
   "source": [
    "## Utility functions"
   ]
  },
  {
   "cell_type": "code",
   "execution_count": 2,
   "metadata": {},
   "outputs": [],
   "source": [
    "def calculate_max_cp0(SML, M_mw, T_C, Material, P_density, F_density, K_PF, max_time, V_P, V_F, d_P, d_F, A_PF, timestep):\n",
    "    # Set an initial guess for c_P0\n",
    "    c_P0_guess = 20  # Start with 1 mg/kg\n",
    "    tolerance = 1e-6  # Tolerance for the solution\n",
    "    max_iterations = 300  # Set a max number of iterations\n",
    "    \n",
    "    for _ in range(max_iterations):\n",
    "        # Berechne die Migration für den aktuellen c_P0-Schätzwert\n",
    "        migration_data = migrationsmodell_piringer(M_mw, T_C, c_P0_guess, Material, P_density, F_density, K_PF, max_time, V_P, V_F, d_P, d_F, A_PF, timestep)\n",
    "        \n",
    "        # Berechne die maximale Migration\n",
    "        migration_max = max(migration_data)  # max migration \n",
    "        \n",
    "        # Check if the calculated SML meets the target SML within the tolerance\n",
    "        if abs(migration_max - SML) < tolerance:\n",
    "            return c_P0_guess\n",
    "        \n",
    "        # Anpassung von c_P0 basierend auf dem Verhältnis zwischen aktueller Migration und Ziel-SML\n",
    "        c_P0_guess *= (SML / migration_max)\n",
    "    \n",
    "    # Wenn keine Konvergenz erreicht wird\n",
    "    raise ValueError(\"Maximale Iterationen erreicht, keine Lösung gefunden\")\n"
   ]
  },
  {
   "cell_type": "markdown",
   "metadata": {},
   "source": [
    "# Imports und Parameterdefinition"
   ]
  },
  {
   "cell_type": "code",
   "execution_count": 3,
   "metadata": {},
   "outputs": [],
   "source": [
    "import numpy as np\n",
    "import matplotlib.pyplot as plt\n",
    "from mpl_toolkits.mplot3d import Axes3D\n",
    "from matplotlib.colors import LinearSegmentedColormap\n",
    "\n",
    "# Physikalisch-chemische Eigenschaften\n",
    "M_mw = 136              # [g/mol]       Molekulargewicht Migrant\n",
    "T_C = 20                # [°C]          Temperatur\n",
    "c_P0 = 1000            # [mg/kg]       Anfangskonzentration im Polymer\n",
    "Material = \"LDPE\"       # [-]           Material Polymer\n",
    "P_density = 0.9175           # [g/cm^3]      Dichte Polymer\n",
    "F_density = 0.9           # [g/cm^3]      Dichte Fluid\n",
    "K_PF = 1                # [-]           Verteilungskoeffizient\n",
    "max_time=3600 * 24 * 100   # [s]           Simulationszeit (Sekunden/Stunde * Stunden/Tag * Tag)\n",
    "\n",
    "# Geometrische Größen\n",
    "d_P = 0.2                # [cm]          Durchmesser des Polymers\n",
    "d_F = 1.85                 # [cm]          Durchmesser des Fluids \n",
    "V_P = None                   # [cm^3]        Volumen Polymer\n",
    "V_F = None                  # [cm^3]        Volumen Fluid\n",
    "A_PF = 6                  # [dm^2]        Kontaktfläche Polymer/Fluid\n",
    "\n",
    "# Modellparameter nach Piringer\n",
    "timestep = 3600    # [s]           Schrittweite \n",
    "time_days = np.arange(0, max_time / (3600 * 24), timestep / (3600 * 24))\n",
    "\n",
    "alpha = (1 / K_PF) * (d_F / d_P)\n",
    "material_data = get_material_data(Material)  \n",
    "A_Pt = material_data[\"A_Pt\"]  \n"
   ]
  },
  {
   "cell_type": "markdown",
   "metadata": {},
   "source": [
    "# Moderllierungsergebnisse "
   ]
  },
  {
   "cell_type": "markdown",
   "metadata": {},
   "source": [
    "## Migrationskurve"
   ]
  },
  {
   "cell_type": "code",
   "execution_count": 4,
   "metadata": {},
   "outputs": [],
   "source": [
    "results_area = migrationsmodell_piringer(M_mw, T_C, c_P0, Material, \n",
    "                                             P_density, F_density, K_PF, max_time, V_P, V_F, \n",
    "                                             d_P, d_F, A_PF, timestep)"
   ]
  },
  {
   "cell_type": "markdown",
   "metadata": {},
   "source": [
    "### Speichern der Ergebnisse"
   ]
  },
  {
   "cell_type": "code",
   "execution_count": 5,
   "metadata": {},
   "outputs": [],
   "source": [
    "# np.save(\"/Users/tomhartmann/Desktop/studienarbeit-migrationsmodellierung/data/Modellvergleich/Piringer-vergleich-100days-LDPE\", results_area)"
   ]
  },
  {
   "cell_type": "code",
   "execution_count": 6,
   "metadata": {},
   "outputs": [],
   "source": [
    "# # Plot the area-specific migration results\n",
    "# plt.figure(figsize=(10, 6))\n",
    "# plt.plot(time_days, results_area)\n",
    "# # # Unterschrift mit den Randbedingungen\n",
    "# # conditions_text = (\n",
    "# #     f\"Material: {Material} \\n\"\n",
    "# #     f\"$T$ = {T_C} °C, $M_{{r}}$ = {M_mw} g/mol, $A_{{P}}^{{'}}$ = {A_Pt} \\n\"\n",
    "# #     f\"$c_{{P,0}}$ = {c_P0} mg/kg, $\\\\rho_{{P}}$ = {P_density} g/cm³, $\\\\rho_{{F}}$ = {F_density} g/cm³\\n\"\n",
    "# #     f\"$K_{{P,F}}$ = {K_PF}, $\\\\alpha$ = {alpha}\\n\"\n",
    "# #     f\"$A_{{P,F}}$ = {A_PF} dm², $d_{{P}}$ = {d_P} cm, $d_{{F}}$ = {d_F} cm\\n\"\n",
    "# # )\n",
    "# # Füge den Text unterhalb des Plots hinzu\n",
    "# # plt.figtext(0.75, 0.15, conditions_text, wrap=True, horizontalalignment='center', fontsize=10)\n",
    "# plt.title(\"Area-specific Migration over Time\")\n",
    "# plt.xlabel(\"Time $[days]$\")\n",
    "# plt.ylabel(\"Migrating amount $[mg/dm^2]$\")\n",
    "# plt.show()"
   ]
  },
  {
   "cell_type": "markdown",
   "metadata": {},
   "source": [
    "## Berechnung der Anfangskonzentration um SML nicht zu überschreiten"
   ]
  },
  {
   "cell_type": "code",
   "execution_count": 7,
   "metadata": {},
   "outputs": [],
   "source": [
    "# SML_rinse_off = 1.665  # z.B. 1,665 mg/dm² für 0,01 % Konzentration von Limonen für Rinse Off\n",
    "# max_cp0 = calculate_max_cp0(SML_rinse_off, M_mw, T_C, Material, P_density, F_density, K_PF, max_time, V_P, V_F, d_P, d_F, A_PF, timestep)\n",
    "# print(f\"Maximale Anfangskonzentration, um SML bei {max_time/(3600*24):.2f} Tagen nicht zu überschreiten: {max_cp0} mg/kg\")\n",
    "\n",
    "# SML_leave_on= 0.1665  # z.B. 1,665 mg/dm² für 0,01 % Konzentration von Limonen für Rinse Off\n",
    "# max_cp0 = calculate_max_cp0(SML_leave_on, M_mw, T_C, Material, P_density, F_density, K_PF, max_time, V_P, V_F, d_P, d_F, A_PF, timestep)\n",
    "# print(f\"Maximale Anfangskonzentration, um SML bei {max_time/(3600*24):.2f} Tagen nicht zu überschreiten: {max_cp0} mg/kg\")"
   ]
  },
  {
   "cell_type": "code",
   "execution_count": 8,
   "metadata": {},
   "outputs": [],
   "source": [
    "# # Plot the area-specific migration results\n",
    "# plt.figure(figsize=(10, 6))\n",
    "# time_days = np.arange(0, max_time / (3600 * 24), timestep / (3600 * 24))\n",
    "# plt.plot(time_days, results_area)\n",
    "# # # Unterschrift mit den Randbedingungen\n",
    "# # conditions_text = (\n",
    "# #     f\"Material: {Material} \\n\"\n",
    "# #     f\"$T$ = {T_C} °C, $M_{{r}}$ = {M_mw} g/mol, $A_{{P}}^{{'}}$ = {A_Pt} \\n\"\n",
    "# #     f\"$c_{{P,0}}$ = {c_P0} mg/kg, $\\\\rho_{{P}}$ = {P_density} g/cm³, $\\\\rho_{{F}}$ = {F_density} g/cm³\\n\"\n",
    "# #     f\"$K_{{P,F}}$ = {K_PF}, $\\\\alpha$ = {alpha}\\n\"\n",
    "# #     f\"$A_{{P,F}}$ = {A_PF} dm², $d_{{P}}$ = {d_P} cm, $d_{{F}}$ = {d_F} cm\\n\"\n",
    "# # )\n",
    "# # Füge den Text unterhalb des Plots hinzu\n",
    "# # plt.figtext(0.75, 0.15, conditions_text, wrap=True, horizontalalignment='center', fontsize=10)\n",
    "# plt.axhline(y=SML_rinse_off, color='r', linestyle='--', label=f'SML_{{rinse-off}} = {SML_rinse_off} $mg/dm^2$')\n",
    "# plt.title(\"Area-specific Migration over Time\")\n",
    "# plt.xlabel(\"Time $[days]$\")\n",
    "# plt.ylabel(\"Migrating amount $[mg/dm^2]$\")\n",
    "# plt.show()"
   ]
  },
  {
   "cell_type": "markdown",
   "metadata": {},
   "source": [
    "## Einfluss der Temperatur"
   ]
  },
  {
   "cell_type": "code",
   "execution_count": 9,
   "metadata": {},
   "outputs": [],
   "source": [
    "# results_area_T = []\n",
    "\n",
    "# # Variation der Tempeartur\n",
    "# temperatures = np.arange(20, 81, 1)\n",
    "# for T_C in temperatures:\n",
    "#     migration_data = migrationsmodell_piringer(M_mw, T_C, c_P0, Material, \n",
    "#                                              P_density, F_density, K_PF, max_time, V_P, V_F, \n",
    "#                                              d_P, d_F, A_PF, timestep) \n",
    "#     results_area_T.append(migration_data)\n",
    "\n",
    "# # Flächenbezogene Migration\n",
    "# # Umrechnung in [mg/dm^2]\n",
    "# results_area_T = np.array(results_area_T)\n",
    "\n",
    "# # Umrechnung in prozentuale Migration \n",
    "# results_percent_T = np.array(results_area_T) / (P_density * c_P0 * d_P)\n",
    "# results_percent_T = results_percent_T.tolist()  # [%]\n",
    "\n",
    "# # Umrechnung in flächenunspezifische Migration\n",
    "# results_T = np.array(results_area_T) * A_PF  # [mg/kg]\n",
    "# results_T = results_T.tolist()\n"
   ]
  },
  {
   "cell_type": "markdown",
   "metadata": {},
   "source": [
    "## Einfluss des Molekülgewichts"
   ]
  },
  {
   "cell_type": "code",
   "execution_count": 10,
   "metadata": {},
   "outputs": [],
   "source": [
    "# results_area_M_mw = []\n",
    "\n",
    "# # Variation der molekularen Masse    \n",
    "# molecularweights = np.arange(100, 600, 10)    \n",
    "# for M_mw in molecularweights:\n",
    "#     migration_data = migrationsmodell_piringer(M_mw, T_C, c_P0, Material, \n",
    "#                                              P_density, F_density, K_PF, max_time, V_P, V_F, \n",
    "#                                              d_P, d_F, A_PF, timestep) \n",
    "#     results_area_M_mw.append(migration_data)\n",
    "\n",
    "# # Flächenbezogene Migration\n",
    "# # Umrechnung in [mg/dm^2]\n",
    "# results_area_M_mw = np.array(results_area_M_mw) \n",
    "# results_area_M_mw = results_area_M_mw.tolist()\n",
    "\n",
    "# # Umrechnung in prozentuale Migration \n",
    "# results_percent_M_mw = np.array(results_area_M_mw) / (P_density * c_P0 * d_P)\n",
    "# results_percent_M_mw = results_percent_M_mw.tolist()  # [%]\n",
    "\n",
    "# # Umrechnung in flächenunspezifische Migration\n",
    "# results_M_mw = np.array(results_area_M_mw) * A_PF  # [mg/kg]\n",
    "# results_M_mw = results_M_mw.tolist()\n"
   ]
  },
  {
   "cell_type": "markdown",
   "metadata": {},
   "source": [
    "## Einfluss des Materials"
   ]
  },
  {
   "cell_type": "markdown",
   "metadata": {},
   "source": [
    "Dichten aus [OJE13] gemittelt (Polymers and the Environment)"
   ]
  },
  {
   "cell_type": "code",
   "execution_count": 11,
   "metadata": {},
   "outputs": [],
   "source": [
    "materials = {\n",
    "    'LDPE': 0.9175,  # [g/cm^3]\n",
    "    'HDPE': 0.955,   # [g/cm^3]\n",
    "    'PP': 0.9045,    # [g/cm^3]\n",
    "    # 'PET': 1.35,      # [g/cm^3]\n",
    "    # 'PS': 1.06      # [g/cm^3]\n",
    "}\n",
    "\n",
    "results_area_material = []\n",
    "for material, P_density in materials.items():\n",
    "    migration_data = migrationsmodell_piringer(M_mw, T_C, c_P0, material, \n",
    "                                               P_density, F_density, K_PF, max_time, \n",
    "                                               V_P, V_F, d_P, d_F, A_PF, timestep) \n",
    "    results_area_material.append(migration_data)\n",
    "    \n",
    "    \n",
    "# Flächenbezogene Migration\n",
    "# Umrechnung in [mg/dm^2]\n",
    "results_area_material = np.array(results_area_material)\n",
    "\n",
    "# Umrechnung in prozentuale Migration \n",
    "results_percent_material = np.array(results_area_material) / (P_density * c_P0 * d_P)\n",
    "results_percent_material = results_percent_material.tolist()  # [%]\n",
    "\n",
    "# Umrechnung in flächenunspezifische Migration\n",
    "results_material = np.array(results_area_material) * A_PF  # [mg/kg]\n",
    "results_material = results_material.tolist()\n"
   ]
  },
  {
   "cell_type": "markdown",
   "metadata": {},
   "source": [
    "## Einfluss des Verteilungskoeffizienten "
   ]
  },
  {
   "cell_type": "code",
   "execution_count": 12,
   "metadata": {},
   "outputs": [],
   "source": [
    "# K_values = [0.1, 1, 10, 100, 1000]\n",
    "\n",
    "# results_area_K = []\n",
    "# for K_PF in K_values:\n",
    "#     migration_data = migrationsmodell_piringer(M_mw, T_C, c_P0, Material, \n",
    "#                                              P_density, F_density, K_PF, max_time, V_P, V_F, \n",
    "#                                              d_P, d_F, A_PF, timestep) \n",
    "#     results_area_K.append(migration_data)\n",
    "    \n",
    "\n",
    "\n",
    "# # Umrechnung in prozentuale Migration \n",
    "# results_percent_K = np.array(results_area_K) / (P_density * c_P0 * d_P)\n",
    "# results_percent_K = results_percent_K.tolist()  # [%]\n",
    "\n",
    "# # Umrechnung in flächenunspezifische Migration\n",
    "# results_K = np.array(results_area_K) * A_PF  # [mg/kg]\n",
    "# results_K = results_K.tolist()"
   ]
  },
  {
   "cell_type": "markdown",
   "metadata": {},
   "source": [
    "## Einlfuss der Schichtdicke des Polymers"
   ]
  },
  {
   "cell_type": "code",
   "execution_count": 13,
   "metadata": {},
   "outputs": [],
   "source": [
    "# results_area_d_P = []\n",
    "\n",
    "# # Variation der Tempeartur\n",
    "# d_P_values = np.arange(0.002, 81, 5)\n",
    "# for T_C in temperatures:\n",
    "#     migration_data = migrationsmodell_piringer(M_mw, T_C, c_P0, Material, \n",
    "#                                              P_density, F_density, K_PF, max_time, V_P, V_F, \n",
    "#                                              d_P, d_F, A_PF, timestep) \n",
    "#     results_area_T.append(migration_data)\n",
    "\n",
    "# # Flächenbezogene Migration\n",
    "# # Umrechnung in [mg/dm^2]\n",
    "# results_area_T = np.array(results_area_T) / 10\n",
    "# results_area_T = results_area_T.tolist()\n",
    "\n",
    "# # Umrechnung in prozentuale Migration \n",
    "# results_percent_T = np.array(results_area_T) / (P_density * c_P0 * d_P)\n",
    "# results_percent_T = results_percent_T.tolist()  # [%]\n",
    "\n",
    "# # Umrechnung in flächenunspezifische Migration\n",
    "# results_T = np.array(results_area_T) * A_PF  # [mg/kg]\n",
    "# results_T = results_T.tolist()\n"
   ]
  },
  {
   "cell_type": "markdown",
   "metadata": {},
   "source": [
    "# Plot-Konfiguration"
   ]
  },
  {
   "cell_type": "markdown",
   "metadata": {},
   "source": [
    "## 3D-Plot Konfiguration"
   ]
  },
  {
   "cell_type": "markdown",
   "metadata": {
    "tags": [
     "parameters"
    ]
   },
   "source": [
    "### Einfluss der Temperatur"
   ]
  },
  {
   "cell_type": "code",
   "execution_count": 14,
   "metadata": {},
   "outputs": [],
   "source": [
    "# # # colors = [\"#00349D\", \"#1F78B4\", \"#A6CEE3\", \"#FDBF6F\", \"#F06D1D\"]  \n",
    "# # # colors = [\"#00349D\", \"#0059B3\", \"#007FCB\", \"#F28E2B\", \"#F06D1D\"]\n",
    "# # # colors = [\"#00349D\", \"#577CAD\", \"#A1BEDD\", \"#F9B676\", \"#F06D1D\"]\n",
    "# # # colors = [\"#00349D\", \"#1B61A8\", \"#4CA8C5\", \"#F7A959\", \"#F06D1D\"]\n",
    "# # # colors = [\"#00349D\", \"#006DBF\", \"#66A4DC\", \"#FDA057\", \"#F06D1D\"]\n",
    "# # colors = [\"#00349D\", \"#3A6FB5\", \"#90BADF\", \"#F6A965\", \"#F06D1D\"]\n",
    "\n",
    "# colors = [\"#00349D\", \"#0061A5\", \"#218AB7\", \"#60B1C8\", \"#A6D3DD\", \n",
    "#           \"#F1D6A6\", \"#F7A95A\", \"#F3782E\", \"#F06D1D\"]\n",
    "\n",
    "# n_bins = 100  # Anzahl der Zwischenstufen\n",
    "\n",
    "# # Erstelle die benutzerdefinierte Colormap\n",
    "# custom_cmap = LinearSegmentedColormap.from_list(\"custom_cmap\", colors, N=n_bins)\n",
    "\n",
    "# # Umwandlung der Daten für den 3D-Plot\n",
    "# X, Y = np.meshgrid(time_days, temperatures)\n",
    "# Z = np.array(results_area_T)\n",
    "\n",
    "# # Erstellen des 3D-Plots\n",
    "# fig = plt.figure(figsize=(16, 7))\n",
    "# ax = fig.add_subplot(111, projection='3d')\n",
    "\n",
    "# # Plotten der Oberfläche mit der benutzerdefinierten Colormap\n",
    "# surf = ax.plot_surface(X, Y, Z, cmap=custom_cmap, edgecolor='none')\n",
    "\n",
    "# # Achsen\n",
    "# ax.view_init(elev=20, azim=-110)\n",
    "# ax.set_xlabel('Zeit $[Tage]$', fontsize=13)\n",
    "# ax.set_ylabel('Temperatur $[°C]$',  fontsize=13)\n",
    "# ax.set_zlabel('')\n",
    "# # Manuelles Hinzufügen der Beschriftung an einer spezifischen Position\n",
    "# ax.text2D(0.04, 0.55, 'spez. Migrationsmenge $[mg/dm^2]$', \n",
    "#           transform=ax.transAxes, \n",
    "#           rotation=90, \n",
    "#           ha='center', \n",
    "#           va='center', \n",
    "#           fontsize = 13)\n",
    "\n",
    "# ax.tick_params(axis='both', which='major', labelsize=12)  # Achsen-Tick-Zahlen für X- und Y-Achse\n",
    "# ax.tick_params(axis='z', which='major', labelsize=12)     # Achsen-Tick-Zahlen für Z-Achse\n",
    "\n",
    "# # Farblegende\n",
    "# cbar = fig.colorbar(surf, ax=ax, shrink=0.5, aspect=20, pad=-0.01)\n",
    "# cbar.set_label('$[mg/dm^2]$', fontsize=13)\n",
    "# cbar.ax.tick_params(labelsize=12)\n",
    "\n",
    "# # Layout anpassen und Plot anzeigen\n",
    "# plt.tight_layout()\n",
    "# plt.subplots_adjust(left=0.2, right=0.95)\n",
    "# plt.savefig('/Users/tomhartmann/Documents/00_UNI/01_MASTER/STUDIENARBEIT/000_Vektorgrafiken/Piringer/piringer-var-t-2-colormap.pdf', bbox_inches='tight')\n",
    "# plt.show()\n"
   ]
  },
  {
   "cell_type": "markdown",
   "metadata": {},
   "source": [
    "### Einfluss des Molekülgewichts des Migranten"
   ]
  },
  {
   "cell_type": "code",
   "execution_count": 15,
   "metadata": {},
   "outputs": [],
   "source": [
    "# # Definiere die individuellen Farben für die Colormap\n",
    "# colors = [\"#00349D\", \"#0061A5\", \"#218AB7\", \"#60B1C8\", \"#A6D3DD\", \n",
    "#           \"#F1D6A6\", \"#F7A95A\", \"#F3782E\", \"#F06D1D\"]\n",
    "# n_bins = 100  # Anzahl der Zwischenstufen\n",
    "\n",
    "# # Erstelle die benutzerdefinierte Colormap\n",
    "# custom_cmap = LinearSegmentedColormap.from_list(\"custom_cmap\", colors, N=n_bins)\n",
    "\n",
    "# # Umwandlung der Daten für den 3D-Plot\n",
    "# X, Y = np.meshgrid(time_days, molecularweights)\n",
    "# Z = np.array(results_area_M_mw)\n",
    "\n",
    "# # Erstellen des 3D-Plots\n",
    "# fig = plt.figure(figsize=(16, 7))\n",
    "# ax = fig.add_subplot(111, projection='3d')\n",
    "\n",
    "# # Plotten der Oberfläche mit der benutzerdefinierten Colormap\n",
    "# surf = ax.plot_surface(X, Y, Z, cmap=custom_cmap, edgecolor='none')\n",
    "\n",
    "# # Achsen\n",
    "# ax.view_init(elev=20, azim=-110)\n",
    "# ax.set_xlabel('Zeit $[Tage]$', fontsize=13)\n",
    "# ax.set_ylabel('Molekülmasse $[g/mol]$',  fontsize=13)\n",
    "# ax.invert_yaxis()  # Y-Achse umkehren\n",
    "# ax.set_zlabel('')\n",
    "# # Manuelles Hinzufügen der Beschriftung an einer spezifischen Position\n",
    "# ax.text2D(0.04, 0.55, 'spez. Migrationsmenge $[mg/dm^2]$', \n",
    "#           transform=ax.transAxes, \n",
    "#           rotation=90, \n",
    "#           ha='center', \n",
    "#           va='center', \n",
    "#           fontsize = 13)\n",
    "\n",
    "# # Position des 3D-Plots anpassen\n",
    "# ax.set_position([0.2, 0.1, 1, 1])  # [left, bottom, width, height]\n",
    "\n",
    "# ax.tick_params(axis='both', which='major', labelsize=12)  # Achsen-Tick-Zahlen für X- und Y-Achse\n",
    "# ax.tick_params(axis='z', which='major', labelsize=12)     # Achsen-Tick-Zahlen für Z-Achse\n",
    "\n",
    "# # Farblegende\n",
    "# cbar = fig.colorbar(surf, ax=ax, shrink=0.5, aspect=20, pad=-0.01)  # Ändere \"aspect\" für die Breite und \"pad\" für den Abstand\n",
    "# cbar.set_label('$[mg/dm^2]$', fontsize = 13)  # Einheit hinzufügen\n",
    "# cbar.ax.tick_params(labelsize=12)\n",
    "# # Unterschrift mit den Randbedingungen\n",
    "# # conditions_text = (\n",
    "# #     f\"Material: {Material}\\n\"\n",
    "# #     f\"T = {T_C} °C, $A_{{P}}^{{'}}$ = {A_Pt} \\n\"\n",
    "# #     f\"$c_{{P,0}}$ = {c_P0} mg/kg, $\\\\rho_{{P}}$ = {P_density} g/cm³, $\\\\rho_{{F}}$ = {F_density} g/cm³\\n\"\n",
    "# #     f\"$K_{{P,F}}$ = {K_PF}, $\\\\alpha$ = {alpha}\\n\"\n",
    "# #     f\"$A_{{P,F}}$ = {A_PF} dm², $d_{{P}}$ = {d_P} cm, $d_{{F}}$ = {d_F} cm\\n\"\n",
    "# # )\n",
    "# # Füge den Text unterhalb des Plots hinzu\n",
    "# # plt.figtext(0.7, 0.9, conditions_text, wrap=True, horizontalalignment='left', fontsize=10, va='center')\n",
    "\n",
    "# # Layout anpassen und Plot anzeigen\n",
    "# plt.tight_layout()\n",
    "# plt.subplots_adjust(left=0.2, right=0.95)  # Beispielwerte, anpassen nach Bedarf\n",
    "# plt.savefig('/Users/tomhartmann/Documents/00_UNI/01_MASTER/STUDIENARBEIT/000_Vektorgrafiken/Piringer/piringer-var-Mol.pdf', bbox_inches='tight')\n",
    "# plt.show()\n",
    "# plt.show()"
   ]
  },
  {
   "cell_type": "markdown",
   "metadata": {},
   "source": [
    "## 2D-Plot Konfiguration"
   ]
  },
  {
   "cell_type": "markdown",
   "metadata": {},
   "source": [
    "### Einfluss des Materials"
   ]
  },
  {
   "cell_type": "code",
   "execution_count": 16,
   "metadata": {},
   "outputs": [
    {
     "data": {
      "image/png": "[encoded data removed]",
      "text/plain": [
       "<Figure size 1000x700 with 1 Axes>"
      ]
     },
     "metadata": {},
     "output_type": "display_data"
    }
   ],
   "source": [
    "plt.figure(figsize=(10, 7))\n",
    "\n",
    "colors = ['#00349D', '#6A0DAD', '#228B22', '#20B2AA', '#F06D1D']\n",
    "colors = colors[::-1]\n",
    "# Definiere manuelle Farben für jedes Material\n",
    "colors = {\n",
    "    'LDPE': '#F06D1D',\n",
    "    'HDPE': '#228B22',\n",
    "    'PP': '#6A0DAD',\n",
    "    'PS': '#00349D', \n",
    "    'PET': '#646464'  \n",
    "}\n",
    "\n",
    "for i, material in enumerate(materials):\n",
    "    plt.plot(time_days, results_area_material[i], color = colors[material], \n",
    "             label=material, linewidth=2)\n",
    "\n",
    "# # Unterschrift mit den Randbedingungen\n",
    "# conditions_text = (\n",
    "#     f\"$M_{{r}}$ = {M_mw} g/mol, T = {T_C} °C\\n\"\n",
    "#     f\"$c_{{P,0}}$ = {c_P0} mg/kg, $\\\\rho_{{P}}$ = {P_density} g/cm³, $\\\\rho_{{F}}$ = {F_density} g/cm³\\n\"\n",
    "#     f\"$K_{{P,F}}$ = {K_PF}, $\\\\alpha$ = {alpha}\\n\"\n",
    "#     f\"$A_{{P,F}}$ = {A_PF} dm², $d_{{P}}$ = {d_P} cm, $d_{{F}}$ = {d_F} cm\\n\"\n",
    "# )\n",
    "# Füge den Text unterhalb des Plots hinzu\n",
    "# plt.figtext(0.5, 0.3, conditions_text, wrap=True, horizontalalignment='left', fontsize=10, va='center')\n",
    "# Schriftgröße der Achsen und Ticklabels anpassen\n",
    "\n",
    "\n",
    "plt.xlabel('Zeit $[Tage]$', fontsize=18)  # Achsentitel größer\n",
    "plt.ylabel('spez. Migrationsmenge $[mg/dm^2]$', fontsize=18)  # Achsentitel größer\n",
    "plt.xticks(fontsize=17)  # Ticks der x-Achse\n",
    "plt.yticks(fontsize=17)  # Ticks der y-Achse\n",
    "\n",
    "# Legende anpassen (Größe und Position)\n",
    "plt.legend(loc='upper right', fontsize=18)  # Legende größer machen\n",
    "plt.savefig('/Users/tomhartmann/Documents/00_UNI/01_MASTER/STUDIENARBEIT/000_Vektorgrafiken/Piringer/piringer-var-Material.pdf', bbox_inches='tight')\n",
    "plt.show()\n",
    "\n"
   ]
  },
  {
   "cell_type": "markdown",
   "metadata": {},
   "source": [
    "### Einfluss Verteilungskoeffizient"
   ]
  },
  {
   "cell_type": "code",
   "execution_count": 17,
   "metadata": {},
   "outputs": [],
   "source": [
    "# plt.figure(figsize=(10, 7))\n",
    "\n",
    "\n",
    "# colors = ['#00349D', '#6A0DAD', '#228B22', '#20B2AA', '#F06D1D']\n",
    "# colors = colors[::-1]\n",
    "\n",
    "# for i, K_PF in enumerate(K_values):\n",
    "#     results_area_K[i][0] = 0  # Erster Eintrag auf 0 setzen für Dartstellung\n",
    "#     plt.plot(time_days, results_area_K[i], label=f\"$K_{{P,F}}$ = {K_PF}\", linewidth = 2, color = colors[i])\n",
    "\n",
    "\n",
    "# # Unterschrift mit den Randbedingungen\n",
    "# # conditions_text = (\n",
    "# #     f\"Material: {Material}, T = {T_C} °C\\n\"\n",
    "# #     f\"$M_{{r}}$ = {M_mw} g/mol, $A_{{P}}^{{'}}$ = {A_Pt} \\n\"\n",
    "# #     f\"$c_{{P,0}}$ = {c_P0} mg/kg, $\\\\rho_{{P}}$ = {P_density} g/cm³, $\\\\rho_{{F}}$ = {F_density} g/cm³\\n\"\n",
    "# #     f\"$\\\\alpha$ = {alpha}\\n\"\n",
    "# #     f\"$A_{{P,F}}$ = {A_PF} dm², $d_{{P}}$ = {d_P} cm, $d_{{F}}$ = {d_F} cm\\n\"\n",
    "# # )\n",
    "# # Füge den Text unterhalb des Plots hinzu\n",
    "# # plt.figtext(0.5, 0.33, conditions_text, wrap=True, horizontalalignment='left', fontsize=10, va='center')\n",
    "\n",
    "\n",
    "# y_ticks = np.arange(0, np.ceil(max([max(r) for r in results_area_K])) + 1, 2)  # Ganzen Zahlenbereich bestimmen\n",
    "\n",
    "# plt.xlabel('Zeit $[Tage]$', fontsize=18)  \n",
    "# plt.ylabel('spez. Migrationsmenge $[mg/dm^2]$', fontsize=18)  \n",
    "# plt.xticks(fontsize=17)  # Ticks der x-Achse\n",
    "# plt.yticks(y_ticks, fontsize=17)  # Ticks der y-Achse\n",
    "\n",
    "# plt.legend(loc='upper right', fontsize = 18)\n",
    "# plt.savefig('/Users/tomhartmann/Documents/00_UNI/01_MASTER/STUDIENARBEIT/000_Vektorgrafiken/Piringer/piringer-var-K.pdf', bbox_inches='tight')\n",
    "# plt.show()"
   ]
  },
  {
   "cell_type": "markdown",
   "metadata": {},
   "source": [
    "# Migrationskurven"
   ]
  },
  {
   "cell_type": "markdown",
   "metadata": {},
   "source": [
    "#### spez. Migration über die Zeit"
   ]
  },
  {
   "cell_type": "code",
   "execution_count": 18,
   "metadata": {},
   "outputs": [],
   "source": [
    "# plt.figure(figsize = (10, 6))\n",
    "# time_days = np.arange(0, max_time / (3600 * 24), timestep / (3600 * 24))\n",
    "# plt.plot(time_days, results_percent_K[0])\n",
    "# plt.title(\"Migration % \")\n",
    "# plt.xlabel(\"Time $[days]$\")\n",
    "# plt.ylabel(\"Migrating amount [%]\")\n",
    "# plt.show()\n"
   ]
  },
  {
   "cell_type": "code",
   "execution_count": 19,
   "metadata": {},
   "outputs": [],
   "source": [
    "# plt.figure(figsize = (10, 7))\n",
    "# time_days = np.arange(0, max_time / (3600 * 24), timestep / (3600 * 24))\n",
    "# plt.plot(time_days, results, label = \"calc.\")\n",
    "\n",
    "# # Vergelich mit experimentellen Werten\n",
    "\n",
    "# t_exp_2 = [1, 2, 4, 10]\n",
    "# m_F_exp_2 = [0.85, 1.26, 1.74, 2.75]\n",
    "\n",
    "# # t_exp_3 = [4, 10, 20]\n",
    "# # m_F_exp_3 = [3.84, 6.06, 8.7]\n",
    "\n",
    "# plt.scatter(t_exp_2, m_F_exp_2, color = \"red\", marker= '^', label= \"exp.\")\n",
    "# plt.plot(t_exp_2, m_F_exp_2, color=\"red\", linestyle='--')\n",
    "\n",
    "# plt.title(\"Migration over time\")\n",
    "# plt.xlabel(\"Time $[days]$\")\n",
    "# plt.ylabel(\"Migrating amount $[mg/kg]$\")\n",
    "# plt.legend(loc=\"upper right\")\n",
    "\n",
    "# # Unterschrift mit den Randbedingungen\n",
    "# conditions_text = (\n",
    "#     f\"Material: {Material} \\n\"\n",
    "#     f\"$T$ = {T_C} °C, $M_{{r}}$ = {M_mw} g/mol, $A_{{P}}^{{'}}$ = {A_Pt} \\n\"\n",
    "#     f\"$c_{{P,0}}$ = {c_P0} mg/kg, $\\\\rho_{{P}}$ = {P_density} g/cm³, $\\\\rho_{{F}}$ = {F_density} g/cm³\\n\"\n",
    "#     f\"$K_{{P,F}}$ = {K_PF}, $\\\\alpha$ = {alpha}\\n\"\n",
    "#     f\"$A_{{P,F}}$ = {A_PF} dm², $d_{{P}}$ = {d_P} cm, $d_{{F}}$ = {d_F} cm\\n\"\n",
    "# )\n",
    "# # Füge den Text unterhalb des Plots hinzu\n",
    "# plt.figtext(0.75, 0.15, conditions_text, wrap=True, horizontalalignment='center', fontsize=10)\n",
    "\n",
    "# # Layout anpassen und Plot anzeigen\n",
    "# plt.tight_layout()\n",
    "# plt.show()\n",
    "# results[-1]"
   ]
  }
 ],
 "metadata": {
  "kernelspec": {
   "display_name": "base",
   "language": "python",
   "name": "python3"
  },
  "language_info": {
   "codemirror_mode": {
    "name": "ipython",
    "version": 3
   },
   "file_extension": ".py",
   "mimetype": "text/x-python",
   "name": "python",
   "nbconvert_exporter": "python",
   "pygments_lexer": "ipython3",
   "version": "3.11.7"
  }
 },
 "nbformat": 4,
 "nbformat_minor": 2
}
